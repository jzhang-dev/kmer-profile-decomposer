{
 "cells": [
  {
   "cell_type": "code",
   "execution_count": 2,
   "metadata": {},
   "outputs": [],
   "source": [
    "from dataclasses import dataclass\n",
    "from scipy.optimize import least_squares\n",
    "from scipy.stats import nbinom\n",
    "import pandas as pd\n",
    "import numpy as np"
   ]
  },
  {
   "cell_type": "code",
   "execution_count": 8,
   "metadata": {},
   "outputs": [],
   "source": [
    "df = pd.read_table(\"histogram.tsv\", names=(\"depth\", \"count\")).iloc[:, :2000]"
   ]
  },
  {
   "cell_type": "code",
   "execution_count": 9,
   "metadata": {},
   "outputs": [
    {
     "data": {
      "text/html": [
       "<div>\n",
       "<style scoped>\n",
       "    .dataframe tbody tr th:only-of-type {\n",
       "        vertical-align: middle;\n",
       "    }\n",
       "\n",
       "    .dataframe tbody tr th {\n",
       "        vertical-align: top;\n",
       "    }\n",
       "\n",
       "    .dataframe thead th {\n",
       "        text-align: right;\n",
       "    }\n",
       "</style>\n",
       "<table border=\"1\" class=\"dataframe\">\n",
       "  <thead>\n",
       "    <tr style=\"text-align: right;\">\n",
       "      <th></th>\n",
       "      <th>depth</th>\n",
       "      <th>count</th>\n",
       "    </tr>\n",
       "  </thead>\n",
       "  <tbody>\n",
       "    <tr>\n",
       "      <th>0</th>\n",
       "      <td>6</td>\n",
       "      <td>159858055</td>\n",
       "    </tr>\n",
       "    <tr>\n",
       "      <th>1</th>\n",
       "      <td>7</td>\n",
       "      <td>106647935</td>\n",
       "    </tr>\n",
       "    <tr>\n",
       "      <th>2</th>\n",
       "      <td>8</td>\n",
       "      <td>72263818</td>\n",
       "    </tr>\n",
       "    <tr>\n",
       "      <th>3</th>\n",
       "      <td>9</td>\n",
       "      <td>49778791</td>\n",
       "    </tr>\n",
       "    <tr>\n",
       "      <th>4</th>\n",
       "      <td>10</td>\n",
       "      <td>34925176</td>\n",
       "    </tr>\n",
       "    <tr>\n",
       "      <th>...</th>\n",
       "      <td>...</td>\n",
       "      <td>...</td>\n",
       "    </tr>\n",
       "    <tr>\n",
       "      <th>177614</th>\n",
       "      <td>69088931</td>\n",
       "      <td>1</td>\n",
       "    </tr>\n",
       "    <tr>\n",
       "      <th>177615</th>\n",
       "      <td>118201993</td>\n",
       "      <td>1</td>\n",
       "    </tr>\n",
       "    <tr>\n",
       "      <th>177616</th>\n",
       "      <td>118289506</td>\n",
       "      <td>1</td>\n",
       "    </tr>\n",
       "    <tr>\n",
       "      <th>177617</th>\n",
       "      <td>166067752</td>\n",
       "      <td>1</td>\n",
       "    </tr>\n",
       "    <tr>\n",
       "      <th>177618</th>\n",
       "      <td>166410474</td>\n",
       "      <td>1</td>\n",
       "    </tr>\n",
       "  </tbody>\n",
       "</table>\n",
       "<p>177619 rows × 2 columns</p>\n",
       "</div>"
      ],
      "text/plain": [
       "            depth      count\n",
       "0               6  159858055\n",
       "1               7  106647935\n",
       "2               8   72263818\n",
       "3               9   49778791\n",
       "4              10   34925176\n",
       "...           ...        ...\n",
       "177614   69088931          1\n",
       "177615  118201993          1\n",
       "177616  118289506          1\n",
       "177617  166067752          1\n",
       "177618  166410474          1\n",
       "\n",
       "[177619 rows x 2 columns]"
      ]
     },
     "execution_count": 9,
     "metadata": {},
     "output_type": "execute_result"
    }
   ],
   "source": [
    "df"
   ]
  },
  {
   "cell_type": "code",
   "execution_count": 77,
   "metadata": {},
   "outputs": [],
   "source": [
    "@dataclass\n",
    "class KmerProfileModel:\n",
    "    depths: np.ndarray\n",
    "    counts: np.ndarray\n",
    "    peaks: int = 4\n",
    "\n",
    "    def get_peak_counts(self, r, p, fraction):\n",
    "        total_count = self.counts.sum()\n",
    "        log_likelihood = nbinom.logpmf(self.depths, r, p)\n",
    "        return np.exp(np.log(total_count * fraction) + log_likelihood)\n",
    "\n",
    "    def get_model_counts(self, base_depth, bias, fractions):\n",
    "        total_count = self.counts.sum()\n",
    "        model_counts = np.zeros(self.counts.shape)\n",
    "        for i in range(self.peaks):\n",
    "            r = (i+1) * base_depth / bias\n",
    "            mu = (i+1) * base_depth\n",
    "            p = r / (r + mu)\n",
    "            fraction = fractions[i]\n",
    "            model_counts += self.get_peak_counts(r, p, fraction)\n",
    "        return model_counts\n",
    "\n",
    "    def get_residual_sum_of_squares(self, base_depth, bias, fractions):\n",
    "        model_counts = self.get_model_counts(base_depth, bias, fractions)\n",
    "        return ((self.counts - model_counts) ** 2).sum()\n",
    "\n",
    "    \n",
    "    def get_cost(self, params, *args, **kw):\n",
    "        base_depth = params[0]\n",
    "        bias = params[1]\n",
    "        fractions = params[2:]\n",
    "        return self.get_residual_sum_of_squares(base_depth, bias, fractions)\n",
    "\n",
    "    def optimize(self, estimated_base_depth, *args, **kw):\n",
    "        initial_bias = 0.5\n",
    "        initial_fractions = np.ones(self.peaks) / (self.peaks + 0.01)\n",
    "        initial_params = [estimated_base_depth, initial_bias, *initial_fractions]\n",
    "        lower_bounds = [5, 0.001] + [1e-10] * self.peaks\n",
    "        upper_bounds = [1000, 1000, ] + [1 - 1e-10] * self.peaks\n",
    "        bounds = (lower_bounds, upper_bounds)\n",
    "        return least_squares(self.get_cost, initial_params, bounds=bounds, *args, **kw)\n",
    "\n",
    "\n",
    "\n"
   ]
  },
  {
   "cell_type": "code",
   "execution_count": 78,
   "metadata": {},
   "outputs": [],
   "source": [
    "model = KmerProfileModel(df['depth'], df['count'], 1)"
   ]
  },
  {
   "cell_type": "code",
   "execution_count": 79,
   "metadata": {},
   "outputs": [
    {
     "data": {
      "text/plain": [
       "     message: The maximum number of function evaluations is exceeded.\n",
       "     success: False\n",
       "      status: 0\n",
       "         fun: [ 1.156e+16]\n",
       "           x: [ 5.015e+00  5.575e-01  6.910e-01]\n",
       "        cost: 6.685806413440147e+31\n",
       "         jac: [[ 4.697e+14 -2.438e+12  5.486e+13]]\n",
       "        grad: [ 5.431e+30 -2.819e+28  6.344e+29]\n",
       "  optimality: 2.817236357810717e+31\n",
       " active_mask: [0 0 0]\n",
       "        nfev: 300\n",
       "        njev: 230"
      ]
     },
     "execution_count": 79,
     "metadata": {},
     "output_type": "execute_result"
    }
   ],
   "source": [
    "model.optimize(220)"
   ]
  },
  {
   "cell_type": "code",
   "execution_count": null,
   "metadata": {},
   "outputs": [],
   "source": []
  },
  {
   "cell_type": "code",
   "execution_count": 39,
   "metadata": {},
   "outputs": [
    {
     "data": {
      "text/plain": [
       "array([124128.26629807, 365291.7551057 , 945192.41633604, ...,\n",
       "            0.        ,      0.        ,      0.        ])"
      ]
     },
     "execution_count": 39,
     "metadata": {},
     "output_type": "execute_result"
    }
   ],
   "source": [
    "model.get_peak_counts(200, 0.9, 1)"
   ]
  },
  {
   "cell_type": "code",
   "execution_count": 25,
   "metadata": {},
   "outputs": [
    {
     "data": {
      "text/plain": [
       "array([3.28442046e-20, 2.81742395e-02, 6.80441503e-10])"
      ]
     },
     "execution_count": 25,
     "metadata": {},
     "output_type": "execute_result"
    }
   ],
   "source": [
    "nbinom.pmf([10, 100, 200], 100, 0.5)"
   ]
  },
  {
   "cell_type": "code",
   "execution_count": 26,
   "metadata": {},
   "outputs": [
    {
     "data": {
      "text/plain": [
       "array([-44.86251164,  -3.56934721, -21.10827926])"
      ]
     },
     "execution_count": 26,
     "metadata": {},
     "output_type": "execute_result"
    }
   ],
   "source": [
    "nbinom.logpmf([10, 100, 200], 100, 0.5)"
   ]
  },
  {
   "cell_type": "code",
   "execution_count": 27,
   "metadata": {},
   "outputs": [
    {
     "data": {
      "text/plain": [
       "3.2844204718223304e-20"
      ]
     },
     "execution_count": 27,
     "metadata": {},
     "output_type": "execute_result"
    }
   ],
   "source": [
    "np.exp(-44.86251164)"
   ]
  },
  {
   "cell_type": "code",
   "execution_count": null,
   "metadata": {},
   "outputs": [],
   "source": [
    "def get_log_likelihood()"
   ]
  }
 ],
 "metadata": {
  "kernelspec": {
   "display_name": "Python 3",
   "language": "python",
   "name": "python3"
  },
  "language_info": {
   "codemirror_mode": {
    "name": "ipython",
    "version": 3
   },
   "file_extension": ".py",
   "mimetype": "text/x-python",
   "name": "python",
   "nbconvert_exporter": "python",
   "pygments_lexer": "ipython3",
   "version": "3.8.16"
  },
  "orig_nbformat": 4,
  "vscode": {
   "interpreter": {
    "hash": "9ac03a0a6051494cc606d484d27d20fce22fb7b4d169f583271e11d5ba46a56e"
   }
  }
 },
 "nbformat": 4,
 "nbformat_minor": 2
}
